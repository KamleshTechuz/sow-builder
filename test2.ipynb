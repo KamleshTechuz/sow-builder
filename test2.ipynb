{
 "cells": [
  {
   "cell_type": "code",
   "execution_count": 75,
   "metadata": {},
   "outputs": [],
   "source": [
    "from openai import OpenAI\n",
    "from docx import Document\n",
    "from docx.shared import Pt, Inches, RGBColor\n",
    "from docx.enum.text import WD_ALIGN_PARAGRAPH\n",
    "from docx.enum.style import WD_STYLE_TYPE\n",
    "from docx.oxml import OxmlElement, parse_xml\n",
    "from docx.oxml.ns import qn\n",
    "from datetime import date"
   ]
  },
  {
   "cell_type": "code",
   "execution_count": 76,
   "metadata": {},
   "outputs": [],
   "source": [
    "# Set up OpenAI API key\n",
    "api_key = ''\n",
    "client = OpenAI(api_key=api_key)"
   ]
  },
  {
   "cell_type": "code",
   "execution_count": 77,
   "metadata": {},
   "outputs": [],
   "source": [
    "def generate_index(project_requirements):\n",
    "    prompt = f\"\"\"\n",
    "    Based on the following project requirements, generate a structured index for a Statement of Work document.\n",
    "    The index should be in the format:\n",
    "    1. Main topic\n",
    "        a. Subtopic\n",
    "            1. Sub-subtopic\n",
    "\n",
    "    Project requirements: {project_requirements}\n",
    "\n",
    "    Generate the index:\n",
    "    \"\"\"\n",
    "\n",
    "    response = client.chat.completions.create(\n",
    "        model=\"gpt-3.5-turbo\",\n",
    "        messages=[\n",
    "            {\"role\": \"system\", \"content\": \"You are a helpful assistant that generates structured indexes for Statement of Work documents.\"},\n",
    "            {\"role\": \"user\", \"content\": prompt}\n",
    "        ]\n",
    "    )\n",
    "    return response.choices[0].message.content"
   ]
  },
  {
   "cell_type": "code",
   "execution_count": 78,
   "metadata": {},
   "outputs": [],
   "source": [
    "def generate_content_for_topic(topic):\n",
    "    prompt = f\"\"\"\n",
    "    Generate detailed content for the following topic in a Statement of Work document:\n",
    "\n",
    "    {topic}\n",
    "\n",
    "    Provide comprehensive and professional content for this section:\n",
    "    \"\"\"\n",
    "\n",
    "    response = client.chat.completions.create(\n",
    "        model=\"gpt-3.5-turbo\",\n",
    "        messages=[\n",
    "            {\"role\": \"system\", \"content\": \"You are a helpful assistant that generates detailed content for Statement of Work documents.\"},\n",
    "            {\"role\": \"user\", \"content\": prompt}\n",
    "        ]\n",
    "    )\n",
    "    return response.choices[0].message.content"
   ]
  },
  {
   "cell_type": "code",
   "execution_count": 79,
   "metadata": {},
   "outputs": [],
   "source": [
    "def parse_index(index_content):\n",
    "    lines = index_content.strip().split('\\n')\n",
    "    toc = []\n",
    "    for line in lines:\n",
    "        if line.strip():\n",
    "            level = 1\n",
    "            if line.startswith('    '):\n",
    "                level = 3\n",
    "            elif line.startswith('  '):\n",
    "                level = 2\n",
    "            toc.append((line.strip(), level))\n",
    "    return toc"
   ]
  },
  {
   "cell_type": "code",
   "execution_count": 80,
   "metadata": {},
   "outputs": [],
   "source": [
    "def create_custom_style(document, style_name, font_name, font_size, font_color, bold=False, italic=False):\n",
    "    styles = document.styles\n",
    "    custom_style = styles.add_style(style_name, WD_STYLE_TYPE.PARAGRAPH)\n",
    "    custom_style.font.name = font_name\n",
    "    custom_style.font.size = Pt(font_size)\n",
    "    custom_style.font.color.rgb = RGBColor(*font_color)\n",
    "    custom_style.font.bold = bold\n",
    "    custom_style.font.italic = italic\n",
    "    return custom_style"
   ]
  },
  {
   "cell_type": "code",
   "execution_count": 81,
   "metadata": {},
   "outputs": [],
   "source": [
    "def create_custom_styles(doc):\n",
    "    create_custom_style(doc, 'Title Style', 'Arial', 24, (0, 0, 139), bold=True)  # Dark Blue\n",
    "    create_custom_style(doc, 'Heading1 Style', 'Arial', 18, (0, 0, 0), bold=True)\n",
    "    create_custom_style(doc, 'Heading2 Style', 'Arial', 16, (68, 68, 68), bold=True)\n",
    "    create_custom_style(doc, 'Heading3 Style', 'Arial', 14, (102, 102, 102), bold=True)"
   ]
  },
  {
   "cell_type": "code",
   "execution_count": 82,
   "metadata": {},
   "outputs": [],
   "source": [
    "def setup_header(section):\n",
    "    header = section.header\n",
    "    header_para = header.paragraphs[0]\n",
    "    header_para.alignment = WD_ALIGN_PARAGRAPH.RIGHT\n",
    "    current_date = date.today().strftime(\"%d/%m/%Y\")\n",
    "    date_run = header_para.add_run(f'Date: {current_date}')\n",
    "    date_run.font.color.rgb = RGBColor(183, 183, 183)\n",
    "    date_run.font.name = 'Arial'\n",
    "    date_run.font.size = Pt(10)"
   ]
  },
  {
   "cell_type": "code",
   "execution_count": 83,
   "metadata": {},
   "outputs": [],
   "source": [
    "def add_page_number(run):\n",
    "    fldChar = OxmlElement('w:fldChar')\n",
    "    fldChar.set(qn('w:fldCharType'), 'begin')\n",
    "    instrText = OxmlElement('w:instrText')\n",
    "    instrText.text = \"PAGE\"\n",
    "    fldChar2 = OxmlElement('w:fldChar')\n",
    "    fldChar2.set(qn('w:fldCharType'), 'end')\n",
    "    \n",
    "    run._element.append(fldChar)\n",
    "    run._element.append(instrText)\n",
    "    run._element.append(fldChar2)"
   ]
  },
  {
   "cell_type": "code",
   "execution_count": 84,
   "metadata": {},
   "outputs": [],
   "source": [
    "def add_page_number_to_footer(footer):\n",
    "    page_num_para = footer.add_paragraph()\n",
    "    page_num_para.alignment = WD_ALIGN_PARAGRAPH.RIGHT\n",
    "    page_num_run = page_num_para.add_run('Page ')\n",
    "    page_num_run.font.color.rgb = RGBColor(183, 183, 183)\n",
    "    page_num_run.font.name = 'Arial'\n",
    "    page_num_run.font.size = Pt(10)\n",
    "    add_page_number(page_num_run)"
   ]
  },
  {
   "cell_type": "code",
   "execution_count": 85,
   "metadata": {},
   "outputs": [],
   "source": [
    "def add_company_name_to_footer(footer, company_name):\n",
    "    company_para = footer.add_paragraph()\n",
    "    company_para.alignment = WD_ALIGN_PARAGRAPH.RIGHT\n",
    "    company_run = company_para.add_run(company_name)\n",
    "    company_run.font.color.rgb = RGBColor(183, 183, 183)\n",
    "    company_run.font.name = 'Arial'\n",
    "    company_run.font.size = Pt(10)"
   ]
  },
  {
   "cell_type": "code",
   "execution_count": 86,
   "metadata": {},
   "outputs": [],
   "source": [
    "def setup_footer(section, company_name):\n",
    "    footer = section.footer\n",
    "    add_page_number_to_footer(footer)\n",
    "    add_company_name_to_footer(footer, company_name)"
   ]
  },
  {
   "cell_type": "code",
   "execution_count": 87,
   "metadata": {},
   "outputs": [],
   "source": [
    "def setup_header_and_footer(doc, company_name):\n",
    "    section = doc.sections[0]\n",
    "    setup_header(section)\n",
    "    setup_footer(section, company_name)"
   ]
  },
  {
   "cell_type": "code",
   "execution_count": 88,
   "metadata": {},
   "outputs": [],
   "source": [
    "def create_title_page(doc, project_name, version, company_name):\n",
    "    title = doc.add_paragraph('Statement of Work', style='Title Style')\n",
    "    title.alignment = WD_ALIGN_PARAGRAPH.CENTER\n",
    "    doc.add_paragraph()\n",
    "    doc.add_paragraph(f\"Project Name: {project_name}\")\n",
    "    doc.add_paragraph(f\"Version: {version}\")\n",
    "    doc.add_paragraph(f\"Date: {date.today().strftime('%d/%m/%Y')}\")\n",
    "    doc.add_paragraph(f\"Company: {company_name}\")\n",
    "    doc.add_page_break()"
   ]
  },
  {
   "cell_type": "code",
   "execution_count": 89,
   "metadata": {},
   "outputs": [],
   "source": [
    "def create_table_of_contents(doc, toc):\n",
    "    doc.add_paragraph('Table of Contents', style='Heading1 Style')\n",
    "    for item, level in toc:\n",
    "        p = doc.add_paragraph()\n",
    "        p.paragraph_format.left_indent = Pt((level - 1) * 12)  # Adjust indentation\n",
    "        style = f'Heading{level} Style' if level <= 3 else 'Heading3 Style'\n",
    "        p.style = doc.styles[style]\n",
    "        p.add_run(item)\n",
    "    doc.add_page_break()"
   ]
  },
  {
   "cell_type": "code",
   "execution_count": 90,
   "metadata": {},
   "outputs": [],
   "source": [
    "def set_run_background_color(run, r, g, b):\n",
    "    rPr = run._element.get_or_add_rPr()\n",
    "    shd = OxmlElement('w:shd')\n",
    "    shd.set(qn('w:val'), 'clear')\n",
    "    shd.set(qn('w:color'), 'auto')\n",
    "    shd.set(qn('w:fill'), '{:02x}{:02x}{:02x}'.format(r, g, b))\n",
    "    rPr.append(shd)\n",
    "\n",
    "def create_content_pages(doc, toc):\n",
    "    for item, level in toc:\n",
    "        style = f'Heading{level} Style' if level <= 3 else 'Heading3 Style'\n",
    "        p = doc.add_paragraph(style=style)\n",
    "        run = p.add_run(item)\n",
    "        set_run_background_color(run, 204, 204, 204)  # Set background color to RGB(204, 204, 204)\n",
    "        p.paragraph_format.space_after = Pt(12)  # Add some space after the heading\n",
    "        \n",
    "        content = generate_content_for_topic(item)\n",
    "        doc.add_paragraph(content)\n",
    "        \n",
    "        if level == 1:\n",
    "            doc.add_page_break()"
   ]
  },
  {
   "cell_type": "code",
   "execution_count": 91,
   "metadata": {},
   "outputs": [],
   "source": [
    "def create_sow_document(project_name, version, toc, company_name):\n",
    "    doc = Document()\n",
    "    create_custom_styles(doc)\n",
    "    setup_header_and_footer(doc, company_name)\n",
    "    create_title_page(doc, project_name, version, company_name)\n",
    "    create_table_of_contents(doc, toc)\n",
    "    create_content_pages(doc, toc)\n",
    "    doc.save('sow_document.docx')"
   ]
  },
  {
   "cell_type": "code",
   "execution_count": 92,
   "metadata": {},
   "outputs": [],
   "source": [
    "def main():\n",
    "    project_name = \"Oxford Mtrain\"\n",
    "    version = \"version\"\n",
    "    company_name = \"© Techuz Infoweb Pvt. Ltd.\"\n",
    "    project_requirements = \"\"\"The objective of this document is to define the features of an Oxford Mtrain Web Application development, which aims to develop a training platform for the medical therapist. Its primary objective is to provide a user-friendly and secure interface for therapists to get the training using a chatbot. Platform offers a meticulously designed user journey aimed at providing a seamless and enriching experience. Beginning with a straightforward Login/Signup process, users embark on a path that not only involves onboarding to complete their profiles and email verification but also necessitates the thoughtful purchase of subscription plans tailored to their training needs. As users delve into the system, they can access and practice a curated list of exercises, engaging in role plays with our AI chatbot patients. The platform's versatility allows users to switch roles between client and supervisor, fostering an intuitive and dynamic learning environment. The ability to switch between voice and text communication adds another layer of adaptability. Moreover, users can meticulously track their progress, receive scores from ChatGPT supervisors, and contribute valuable feedback to enhance the app's efficacy. With features like exporting conversations, seamless roleplays with ChatGPT supervisors, and robust profile management, our platform endeavors to provide therapists with a comprehensive and empowering journey for skill development and continuous improvement.\"\"\"\n",
    "\n",
    "    print(\"Generating index...\")\n",
    "    index_content = generate_index(project_requirements)\n",
    "    toc = parse_index(index_content)\n",
    "    \n",
    "    print(\"Creating document and generating content...\")\n",
    "    create_sow_document(project_name, version, toc, company_name)\n",
    "    print(\"SOW document has been generated and saved as 'sow_document.docx'\")"
   ]
  },
  {
   "cell_type": "code",
   "execution_count": 93,
   "metadata": {},
   "outputs": [
    {
     "name": "stdout",
     "output_type": "stream",
     "text": [
      "Generating index...\n",
      "Creating document and generating content...\n",
      "SOW document has been generated and saved as 'sow_document.docx'\n"
     ]
    }
   ],
   "source": [
    "main()"
   ]
  },
  {
   "cell_type": "code",
   "execution_count": null,
   "metadata": {},
   "outputs": [],
   "source": []
  }
 ],
 "metadata": {
  "kernelspec": {
   "display_name": "Python 3",
   "language": "python",
   "name": "python3"
  },
  "language_info": {
   "codemirror_mode": {
    "name": "ipython",
    "version": 3
   },
   "file_extension": ".py",
   "mimetype": "text/x-python",
   "name": "python",
   "nbconvert_exporter": "python",
   "pygments_lexer": "ipython3",
   "version": "3.10.12"
  }
 },
 "nbformat": 4,
 "nbformat_minor": 2
}

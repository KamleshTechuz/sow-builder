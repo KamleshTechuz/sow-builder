{
 "cells": [
  {
   "cell_type": "code",
   "execution_count": 413,
   "metadata": {},
   "outputs": [],
   "source": [
    "from openai import OpenAI\n",
    "from docx import Document\n",
    "from docx.shared import Pt, Inches, RGBColor\n",
    "from docx.enum.text import WD_ALIGN_PARAGRAPH\n",
    "from docx.enum.style import WD_STYLE_TYPE\n",
    "from docx.oxml import OxmlElement, parse_xml\n",
    "from docx.oxml.ns import qn\n",
    "from datetime import date\n",
    "import re\n"
   ]
  },
  {
   "cell_type": "code",
   "execution_count": 414,
   "metadata": {},
   "outputs": [],
   "source": [
    "# Set up OpenAI API key\n",
    "api_key = ''\n",
    "client = OpenAI(api_key=api_key)"
   ]
  },
  {
   "cell_type": "code",
   "execution_count": 415,
   "metadata": {},
   "outputs": [],
   "source": [
    "def generate_index(project_requirements):\n",
    "    prompt = f\"\"\"\n",
    "    Based on the following project requirements, generate a structured index for a Statement of Work document.\n",
    "    The index should be in the format:\n",
    "    1. Main topic\n",
    "        a. Subtopic\n",
    "            1. Sub-subtopic\n",
    "\n",
    "    Project requirements: {project_requirements}\n",
    "\n",
    "    Generate the index:\n",
    "    \"\"\"\n",
    "\n",
    "    response = client.chat.completions.create(\n",
    "        model=\"gpt-3.5-turbo\",\n",
    "        messages=[\n",
    "            {\"role\": \"system\", \"content\": \"You are a helpful assistant that generates structured indexes for Statement of Work documents.\"},\n",
    "            {\"role\": \"user\", \"content\": prompt}\n",
    "        ]\n",
    "    )\n",
    "    return response.choices[0].message.content"
   ]
  },
  {
   "cell_type": "code",
   "execution_count": 416,
   "metadata": {},
   "outputs": [],
   "source": [
    "def generate_content_for_topic(topic):\n",
    "    prompt = f\"\"\"\n",
    "    Generate detailed content for the following topic in a Statement of Work document:\n",
    "\n",
    "    {topic}\n",
    "\n",
    "    If this topic involves any kind of form or user input fields, include a table structure for it at the end of the content.\n",
    "    The table should have the following columns: User Input, Input Type, Options, Comments.\n",
    "    Provide at least 5 rows of realistic form fields if applicable.\n",
    "\n",
    "    Start the table with '[[FORM_TABLE_START]]' and end it with '[[FORM_TABLE_END]]'.\n",
    "    \"\"\"\n",
    "\n",
    "    response = client.chat.completions.create(\n",
    "        model=\"gpt-3.5-turbo\",\n",
    "        messages=[\n",
    "            {\"role\": \"system\", \"content\": \"You are a helpful assistant that generates detailed content for Statement of Work documents, including form structures when necessary.\"},\n",
    "            {\"role\": \"user\", \"content\": prompt}\n",
    "        ]\n",
    "    )\n",
    "    return response.choices[0].message.content"
   ]
  },
  {
   "cell_type": "code",
   "execution_count": 417,
   "metadata": {},
   "outputs": [],
   "source": [
    "def parse_index(index_content):\n",
    "    lines = index_content.strip().split('\\n')\n",
    "    toc = []\n",
    "    for line in lines:\n",
    "        if line.strip():\n",
    "            level = 1\n",
    "            if line.startswith('    '):\n",
    "                level = 3\n",
    "            elif line.startswith('  '):\n",
    "                level = 2\n",
    "            toc.append((line.strip(), level))\n",
    "    return toc"
   ]
  },
  {
   "cell_type": "code",
   "execution_count": 418,
   "metadata": {},
   "outputs": [],
   "source": [
    "def create_custom_style(document, style_name, font_name, font_size, font_color, bold=False, italic=False):\n",
    "    styles = document.styles\n",
    "    custom_style = styles.add_style(style_name, WD_STYLE_TYPE.PARAGRAPH)\n",
    "    font = custom_style.font\n",
    "    font.name = font_name\n",
    "    font.size = Pt(font_size)\n",
    "    font.color.rgb = RGBColor(*font_color)\n",
    "    font.bold = bold\n",
    "    font.italic = italic\n",
    "    return custom_style"
   ]
  },
  {
   "cell_type": "code",
   "execution_count": 419,
   "metadata": {},
   "outputs": [],
   "source": [
    "def create_custom_styles(doc):\n",
    "    create_custom_style(doc, 'Title Style', 'Arial', 24, (0, 0, 139), bold=True)  # Dark Blue\n",
    "    create_custom_style(doc, 'Heading1 Style', 'Arial', 18, (0, 0, 0), bold=True)\n",
    "    create_custom_style(doc, 'Heading2 Style', 'Arial', 16, (68, 68, 68), bold=True)\n",
    "    create_custom_style(doc, 'Heading3 Style', 'Arial', 14, (102, 102, 102), bold=True)"
   ]
  },
  {
   "cell_type": "code",
   "execution_count": 420,
   "metadata": {},
   "outputs": [],
   "source": [
    "def setup_header(section):\n",
    "    header = section.header\n",
    "    header_para = header.paragraphs[0]\n",
    "    header_para.alignment = WD_ALIGN_PARAGRAPH.RIGHT\n",
    "    current_date = date.today().strftime(\"%d/%m/%Y\")\n",
    "    date_run = header_para.add_run(f'Date: {current_date}')\n",
    "    date_run.font.color.rgb = RGBColor(183, 183, 183)\n",
    "    date_run.font.name = 'Arial'\n",
    "    date_run.font.size = Pt(10)"
   ]
  },
  {
   "cell_type": "code",
   "execution_count": 421,
   "metadata": {},
   "outputs": [],
   "source": [
    "def add_page_number(run):\n",
    "    fldChar = OxmlElement('w:fldChar')\n",
    "    fldChar.set(qn('w:fldCharType'), 'begin')\n",
    "    instrText = OxmlElement('w:instrText')\n",
    "    instrText.text = \"PAGE\"\n",
    "    fldChar2 = OxmlElement('w:fldChar')\n",
    "    fldChar2.set(qn('w:fldCharType'), 'end')\n",
    "    \n",
    "    run._element.append(fldChar)\n",
    "    run._element.append(instrText)\n",
    "    run._element.append(fldChar2)"
   ]
  },
  {
   "cell_type": "code",
   "execution_count": 422,
   "metadata": {},
   "outputs": [],
   "source": [
    "def add_page_number_to_footer(footer):\n",
    "    page_num_para = footer.add_paragraph()\n",
    "    page_num_para.alignment = WD_ALIGN_PARAGRAPH.RIGHT\n",
    "    page_num_run = page_num_para.add_run('Page ')\n",
    "    page_num_run.font.color.rgb = RGBColor(183, 183, 183)\n",
    "    page_num_run.font.name = 'Arial'\n",
    "    page_num_run.font.size = Pt(10)\n",
    "    add_page_number(page_num_run)"
   ]
  },
  {
   "cell_type": "code",
   "execution_count": 423,
   "metadata": {},
   "outputs": [],
   "source": [
    "def add_company_name_to_footer(footer, company_name):\n",
    "    company_para = footer.add_paragraph()\n",
    "    company_para.alignment = WD_ALIGN_PARAGRAPH.RIGHT\n",
    "    company_run = company_para.add_run(company_name)\n",
    "    company_run.font.color.rgb = RGBColor(183, 183, 183)\n",
    "    company_run.font.name = 'Arial'\n",
    "    company_run.font.size = Pt(10)"
   ]
  },
  {
   "cell_type": "code",
   "execution_count": 424,
   "metadata": {},
   "outputs": [],
   "source": [
    "def setup_footer(section, company_name):\n",
    "    footer = section.footer\n",
    "    add_page_number_to_footer(footer)\n",
    "    add_company_name_to_footer(footer, company_name)"
   ]
  },
  {
   "cell_type": "code",
   "execution_count": 425,
   "metadata": {},
   "outputs": [],
   "source": [
    "def setup_header_and_footer(doc, company_name):\n",
    "    section = doc.sections[0]\n",
    "    setup_header(section)\n",
    "    setup_footer(section, company_name)"
   ]
  },
  {
   "cell_type": "code",
   "execution_count": 426,
   "metadata": {},
   "outputs": [],
   "source": [
    "def create_title_page(doc, project_name, version, company_name):\n",
    "    # Add a paragraph for the top border\n",
    "    border_para = doc.add_paragraph()\n",
    "    add_bottom_border(border_para)\n",
    "\n",
    "    # Title\n",
    "    title = doc.add_paragraph('Business Requirements Specifications', style='Title Style')\n",
    "    title.alignment = WD_ALIGN_PARAGRAPH.CENTER\n",
    "\n",
    "    # Add a paragraph for the bottom border\n",
    "    border_para = doc.add_paragraph()\n",
    "    add_top_border(border_para)\n",
    "    \n",
    "    # Project details\n",
    "    details = [\n",
    "        f\"Project Name: {project_name}\",\n",
    "        f\"Version: {version}\",\n",
    "        # f\"Date: {date.today().strftime('%d/%m/%Y')}\",\n",
    "        # f\"Company: {company_name}\"\n",
    "    ]\n",
    "\n",
    "    for detail in details:\n",
    "        p = doc.add_paragraph()\n",
    "        p.alignment = WD_ALIGN_PARAGRAPH.CENTER\n",
    "        run = p.add_run(detail)\n",
    "        run.font.size = Pt(16)\n",
    "        run.font.bold = True\n",
    "        run.font.color.rgb = RGBColor(0, 0, 0)  # Black color\n",
    "\n",
    "    doc.add_page_break()\n",
    "\n",
    "def add_bottom_border(paragraph):\n",
    "    p = paragraph._p  # Get the paragraph XML element\n",
    "    pPr = p.get_or_add_pPr()  # Get or create the paragraph properties element\n",
    "    pBdr = OxmlElement('w:pBdr')  # Create the paragraph border element\n",
    "    bottom = OxmlElement('w:bottom')  # Create the bottom border element\n",
    "    bottom.set(qn('w:val'), 'single')  # Set the border style\n",
    "    bottom.set(qn('w:sz'), '24')  # Set the border width\n",
    "    bottom.set(qn('w:space'), '1')  # Set the space attribute\n",
    "    bottom.set(qn('w:color'), '000000')  # Set the border color to black\n",
    "    pBdr.append(bottom)\n",
    "    pPr.append(pBdr)\n",
    "\n",
    "def add_top_border(paragraph):\n",
    "    p = paragraph._p  # Get the paragraph XML element\n",
    "    pPr = p.get_or_add_pPr()  # Get or create the paragraph properties element\n",
    "    pBdr = OxmlElement('w:pBdr')  # Create the paragraph border element\n",
    "    top = OxmlElement('w:top')  # Create the top border element\n",
    "    top.set(qn('w:val'), 'single')  # Set the border style\n",
    "    top.set(qn('w:sz'), '24')  # Set the border width\n",
    "    top.set(qn('w:space'), '1')  # Set the space attribute\n",
    "    top.set(qn('w:color'), '000000')  # Set the border color to black\n",
    "    pBdr.append(top)\n",
    "    pPr.append(pBdr)"
   ]
  },
  {
   "cell_type": "code",
   "execution_count": 427,
   "metadata": {},
   "outputs": [],
   "source": [
    "def create_table_of_contents(doc, toc):\n",
    "    doc.add_paragraph('Table of Contents', style='Heading1 Style')\n",
    "    for item, level in toc:\n",
    "        p = doc.add_paragraph()\n",
    "        p.paragraph_format.left_indent = Pt((level - 1) * 12)  # Adjust indentation\n",
    "        style = f'Heading{level} Style' if level <= 3 else 'Heading3 Style'\n",
    "        p.style = doc.styles[style]\n",
    "        p.add_run(item)\n",
    "    doc.add_page_break()"
   ]
  },
  {
   "cell_type": "code",
   "execution_count": 428,
   "metadata": {},
   "outputs": [],
   "source": [
    "def generate_form_table(form_name):\n",
    "    prompt = f\"\"\"\n",
    "    Generate a table structure for a {form_name} form. The table must have the following columns:\n",
    "    1. User Input\n",
    "    2. Input Type (e.g., checkbox, textfield, button) | '-'\n",
    "    3. Options (if applicable) | '-'\n",
    "    4. Comments | '-'\n",
    "\n",
    "    Provide at least 5 rows of realistic form fields for a {form_name} form.\n",
    "    \"\"\"\n",
    "\n",
    "    response = client.chat.completions.create(\n",
    "        model=\"gpt-3.5-turbo\",\n",
    "        messages=[\n",
    "            {\"role\": \"system\", \"content\": \"You are a helpful assistant that generates form structures for software applications.\"},\n",
    "            {\"role\": \"user\", \"content\": prompt}\n",
    "        ]\n",
    "    )\n",
    "    return response.choices[0].message.content"
   ]
  },
  {
   "cell_type": "code",
   "execution_count": 429,
   "metadata": {},
   "outputs": [],
   "source": [
    "def create_form_table(doc, table_content):\n",
    "    rows = table_content.strip().split('\\n')\n",
    "    if len(rows) < 2:  # Ensure we have at least a header row and one data row\n",
    "        doc.add_paragraph(\"Error: Invalid table data generated.\")\n",
    "        return\n",
    "\n",
    "    # Determine the number of columns based on the first row\n",
    "    first_row = rows[0].split('|')\n",
    "    num_cols = len([cell for cell in first_row if cell.strip()])\n",
    "\n",
    "    table = doc.add_table(rows=len(rows), cols=num_cols)\n",
    "    table.style = 'Table Grid'\n",
    "    \n",
    "    for i, row in enumerate(rows):\n",
    "        cells = row.split('|')\n",
    "        for j, cell in enumerate([c for c in cells if c.strip()]):\n",
    "            if j < num_cols:  # Ensure we don't exceed the number of columns\n",
    "                table.cell(i, j).text = cell.strip()\n",
    "    \n",
    "    # Format header row\n",
    "    for cell in table.rows[0].cells:\n",
    "        for paragraph in cell.paragraphs:\n",
    "            for run in paragraph.runs:\n",
    "                run.font.bold = True\n",
    "                # set_paragraph_shading(run, 204, 204, 204)\n",
    "    \n",
    "    # Add space after the table\n",
    "    doc.add_paragraph().paragraph_format.space_after = Pt(12)"
   ]
  },
  {
   "cell_type": "code",
   "execution_count": 430,
   "metadata": {},
   "outputs": [],
   "source": [
    "def set_paragraph_shading(paragraph, r, g, b):\n",
    "    shading_elm = OxmlElement('w:shd')\n",
    "    shading_elm.set(qn('w:val'), 'clear')\n",
    "    shading_elm.set(qn('w:color'), 'auto')\n",
    "    shading_elm.set(qn('w:fill'), f'{r:02x}{g:02x}{b:02x}')\n",
    "    paragraph._p.get_or_add_pPr().append(shading_elm)"
   ]
  },
  {
   "cell_type": "code",
   "execution_count": 431,
   "metadata": {},
   "outputs": [],
   "source": [
    "def apply_markdown_style(paragraph, text):\n",
    "    # Bold\n",
    "    bold_pattern = r'\\*\\*(.*?)\\*\\*'\n",
    "    # Italic\n",
    "    italic_pattern = r'\\*(.*?)\\*'\n",
    "    # Headers\n",
    "    header_pattern = r'^(#{1,6})\\s(.+)$'\n",
    "\n",
    "    # Check for header\n",
    "    header_match = re.match(header_pattern, text)\n",
    "    if header_match:\n",
    "        level = len(header_match.group(1))\n",
    "        text = header_match.group(2)\n",
    "        paragraph.style = f'Heading{level}'\n",
    "        paragraph.alignment = WD_ALIGN_PARAGRAPH.LEFT\n",
    "        run = paragraph.add_run(text)\n",
    "        run.bold = True\n",
    "        font_size = 18 - (level * 2)  # Decrease font size for deeper levels\n",
    "        run.font.size = Pt(font_size)\n",
    "        return\n",
    "\n",
    "    # Process bold and italic\n",
    "    while '**' in text or '*' in text:\n",
    "        bold_match = re.search(bold_pattern, text)\n",
    "        italic_match = re.search(italic_pattern, text)\n",
    "        \n",
    "        if bold_match and (not italic_match or bold_match.start() < italic_match.start()):\n",
    "            start, end = bold_match.span()\n",
    "            paragraph.add_run(text[:start])\n",
    "            run = paragraph.add_run(bold_match.group(1))\n",
    "            run.bold = True\n",
    "            text = text[end:]\n",
    "        elif italic_match:\n",
    "            start, end = italic_match.span()\n",
    "            paragraph.add_run(text[:start])\n",
    "            run = paragraph.add_run(italic_match.group(1))\n",
    "            run.italic = True\n",
    "            text = text[end:]\n",
    "    \n",
    "    # Add any remaining text\n",
    "    if text:\n",
    "        paragraph.add_run(text)"
   ]
  },
  {
   "cell_type": "code",
   "execution_count": 432,
   "metadata": {},
   "outputs": [],
   "source": [
    "def create_content_pages(doc, toc):\n",
    "    for item, level in toc:\n",
    "        style = f'Heading{level} Style' if level <= 3 else 'Heading3 Style'\n",
    "        p = doc.add_paragraph(style=style)\n",
    "        p.add_run(item)\n",
    "        set_paragraph_shading(p, 204, 204, 204)  # Set background color to RGB(204, 204, 204)\n",
    "        p.paragraph_format.space_after = Pt(12)  # Add some space after the heading\n",
    "        \n",
    "        content = generate_content_for_topic(item)\n",
    "        \n",
    "        # Check if there's a form table in the content\n",
    "        table_matches = list(re.finditer(r'\\[\\[FORM_TABLE_START\\]\\](.*?)\\[\\[FORM_TABLE_END\\]\\]', content, re.DOTALL))\n",
    "        \n",
    "        if table_matches:\n",
    "            # Process content with tables\n",
    "            last_end = 0\n",
    "            for match in table_matches:\n",
    "                # Add text content before the table\n",
    "                text_before_table = content[last_end:match.start()]\n",
    "                add_parsed_content(doc, text_before_table)\n",
    "                \n",
    "                # Add form table\n",
    "                doc.add_paragraph(\"Form Structure:\")\n",
    "                create_form_table(doc, match.group(1).strip())\n",
    "                \n",
    "                # Add space after the table\n",
    "                doc.add_paragraph().paragraph_format.space_after = Pt(12)\n",
    "                \n",
    "                last_end = match.end()\n",
    "            \n",
    "            # Add any remaining content after the last table\n",
    "            remaining_content = content[last_end:]\n",
    "            add_parsed_content(doc, remaining_content)\n",
    "        else:\n",
    "            # If no table, just add the content as is with Markdown parsing\n",
    "            add_parsed_content(doc, content)\n",
    "        \n",
    "        if level == 1:\n",
    "            doc.add_page_break()\n",
    "\n",
    "def add_parsed_content(doc, content):\n",
    "    for line in content.split('\\n'):\n",
    "        if line.strip():\n",
    "            p = doc.add_paragraph()\n",
    "            apply_markdown_style(p, line)"
   ]
  },
  {
   "cell_type": "code",
   "execution_count": 433,
   "metadata": {},
   "outputs": [],
   "source": [
    "def set_page_margins(doc, left=0.5, right=0.5, top=1, bottom=1):\n",
    "    sections = doc.sections\n",
    "    for section in sections:\n",
    "        section.left_margin = Inches(left)\n",
    "        section.right_margin = Inches(right)\n",
    "        section.top_margin = Inches(top)\n",
    "        section.bottom_margin = Inches(bottom)"
   ]
  },
  {
   "cell_type": "code",
   "execution_count": 434,
   "metadata": {},
   "outputs": [],
   "source": [
    "def set_default_font(document, font_name='Arial'):\n",
    "    # Set the default font for the entire document\n",
    "    font = document.styles['Normal'].font\n",
    "    font.name = font_name"
   ]
  },
  {
   "cell_type": "code",
   "execution_count": 435,
   "metadata": {},
   "outputs": [],
   "source": [
    "def create_sow_document(project_name, version, toc, company_name):\n",
    "    doc = Document()\n",
    "    set_page_margins(doc)  # Add this line to set the margins\n",
    "    set_default_font(doc, 'Arial')\n",
    "    create_custom_styles(doc)\n",
    "    setup_header_and_footer(doc, company_name)\n",
    "    create_title_page(doc, project_name, version, company_name)\n",
    "    create_table_of_contents(doc, toc)\n",
    "    create_content_pages(doc, toc)\n",
    "    doc.save('sow_document.docx')"
   ]
  },
  {
   "cell_type": "code",
   "execution_count": 436,
   "metadata": {},
   "outputs": [],
   "source": [
    "def main():\n",
    "    project_name = \"Oxford Mtrain\"\n",
    "    version = \"1.0.0\"\n",
    "    company_name = \"© Techuz Infoweb Pvt. Ltd.\"\n",
    "    project_requirements = \"\"\"The objective of this document is to define the features of an Oxford Mtrain Web Application development, which aims to develop a training platform for the medical therapist. Its primary objective is to provide a user-friendly and secure interface for therapists to get the training using a chatbot. Platform offers a meticulously designed user journey aimed at providing a seamless and enriching experience. Beginning with a straightforward Login/Signup process, users embark on a path that not only involves onboarding to complete their profiles and email verification but also necessitates the thoughtful purchase of subscription plans tailored to their training needs. As users delve into the system, they can access and practice a curated list of exercises, engaging in role plays with our AI chatbot patients. The platform's versatility allows users to switch roles between client and supervisor, fostering an intuitive and dynamic learning environment. The ability to switch between voice and text communication adds another layer of adaptability. Moreover, users can meticulously track their progress, receive scores from ChatGPT supervisors, and contribute valuable feedback to enhance the app's efficacy. With features like exporting conversations, seamless roleplays with ChatGPT supervisors, and robust profile management, our platform endeavors to provide therapists with a comprehensive and empowering journey for skill development and continuous improvement.\"\"\"\n",
    "\n",
    "    print(\"Generating index...\")\n",
    "    index_content = generate_index(project_requirements)\n",
    "    toc = parse_index(index_content)\n",
    "    \n",
    "    print(\"Creating document and generating content...\")\n",
    "    create_sow_document(project_name, version, toc, company_name)\n",
    "    print(\"SOW document has been generated and saved as 'sow_document.docx'\")"
   ]
  },
  {
   "cell_type": "code",
   "execution_count": 437,
   "metadata": {},
   "outputs": [
    {
     "name": "stdout",
     "output_type": "stream",
     "text": [
      "Generating index...\n",
      "Creating document and generating content...\n"
     ]
    },
    {
     "name": "stderr",
     "output_type": "stream",
     "text": [
      "/home/kamlesh/.local/lib/python3.10/site-packages/docx/styles/styles.py:130: UserWarning: style lookup by style_id is deprecated. Use style name as key instead.\n",
      "  return self._get_style_id_from_style(self[style_name], style_type)\n"
     ]
    },
    {
     "name": "stdout",
     "output_type": "stream",
     "text": [
      "SOW document has been generated and saved as 'sow_document.docx'\n"
     ]
    }
   ],
   "source": [
    "main()"
   ]
  },
  {
   "cell_type": "code",
   "execution_count": null,
   "metadata": {},
   "outputs": [],
   "source": []
  }
 ],
 "metadata": {
  "kernelspec": {
   "display_name": "Python 3",
   "language": "python",
   "name": "python3"
  },
  "language_info": {
   "codemirror_mode": {
    "name": "ipython",
    "version": 3
   },
   "file_extension": ".py",
   "mimetype": "text/x-python",
   "name": "python",
   "nbconvert_exporter": "python",
   "pygments_lexer": "ipython3",
   "version": "3.10.12"
  }
 },
 "nbformat": 4,
 "nbformat_minor": 2
}
